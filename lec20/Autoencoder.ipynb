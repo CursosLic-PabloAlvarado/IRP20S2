{
 "cells": [
  {
   "cell_type": "code",
   "execution_count": null,
   "metadata": {},
   "outputs": [],
   "source": [
    "#!pip install tensorflow-gpu==2.0.0b1"
   ]
  },
  {
   "cell_type": "markdown",
   "metadata": {},
   "source": [
    "# Diagnosis with an auto-encoder\n",
    "\n",
    "based on Arvin Singh Kushwaha https://towardsdatascience.com/how-to-make-an-autoencoder-2f2d99cd5103\n",
    "\n",
    "Tareas a realizar:\n",
    "- Integre diagnósticos (Tensorboard) para poder observar mejor el entrenamiento\n",
    "- Haga ajustes al auto-encoder para mejorar el desempeño\n",
    "\n"
   ]
  },
  {
   "cell_type": "code",
   "execution_count": null,
   "metadata": {
    "colab": {
     "base_uri": "https://localhost:8080/",
     "height": 357
    },
    "id": "DTx2WHBdDuC1",
    "outputId": "1f53f30b-0e4d-4c9d-8316-cb38e297a28a"
   },
   "outputs": [],
   "source": [
    "from tensorflow.keras.datasets import mnist\n",
    "from tensorflow.keras.layers import Dense, Input, Flatten,\\\n",
    "                                    Reshape, LeakyReLU,\\\n",
    "                                    Activation, Dropout\n",
    "from tensorflow.keras.models import Model, Sequential\n",
    "from matplotlib import pyplot as plt\n",
    "from IPython import display # If using IPython, Colab or Jupyter\n",
    "import numpy as np"
   ]
  },
  {
   "cell_type": "code",
   "execution_count": null,
   "metadata": {
    "colab": {
     "base_uri": "https://localhost:8080/",
     "height": 269
    },
    "id": "L0XybKJyEJIR",
    "outputId": "74546198-dd8b-425f-e12f-4cf4455f9e04"
   },
   "outputs": [],
   "source": [
    "(x_train, y_train), (x_test, y_test) = mnist.load_data()\n",
    "\n",
    "x_train = x_train/255.0\n",
    "x_test = x_test/255.0\n",
    "\n",
    "## Don't use everything: just a fraction of all available data\n",
    "idx=np.random.choice(x_train.shape[0],int(0.2*x_train.shape[0]))\n",
    "\n",
    "x_train = x_train[idx,:,:]\n",
    "y_train = y_train[idx]\n",
    "\n",
    "print(\"Training data with {0} samples\".format(x_train.shape[0]))\n",
    "print(\"Validation data with {0} samples\".format(x_test.shape[0]))\n",
    "\n",
    "# Plot image data from x_train\n",
    "plt.imshow(x_train[0], cmap = \"gray\")\n",
    "plt.show()"
   ]
  },
  {
   "cell_type": "code",
   "execution_count": null,
   "metadata": {
    "id": "-tm9gLzMDw6S"
   },
   "outputs": [],
   "source": [
    "LATENT_SIZE = 16\n",
    "encoder = Sequential([\n",
    "    Flatten(input_shape = (28, 28)),\n",
    "    Dense(128),\n",
    "    LeakyReLU(),\n",
    "    #Dropout(0.5),\n",
    "    Dense(64),\n",
    "    LeakyReLU(),\n",
    "    #Dropout(0.5),\n",
    "    Dense(LATENT_SIZE, activation=\"sigmoid\"),\n",
    "])"
   ]
  },
  {
   "cell_type": "code",
   "execution_count": null,
   "metadata": {
    "id": "x8EF9fQXDzSW"
   },
   "outputs": [],
   "source": [
    "decoder = Sequential([\n",
    "    Dense(64, input_shape = (LATENT_SIZE,)),\n",
    "    LeakyReLU(),\n",
    "    #Dropout(0.5),\n",
    "    Dense(128),\n",
    "    LeakyReLU(),\n",
    "    Dense(784),\n",
    "    Activation(\"sigmoid\"),\n",
    "    Reshape((28, 28))\n",
    "])"
   ]
  },
  {
   "cell_type": "code",
   "execution_count": null,
   "metadata": {
    "id": "GOil9ltcD0si"
   },
   "outputs": [],
   "source": [
    "img = Input(shape = (28, 28))\n",
    "latent_vector = encoder(img)\n",
    "output = decoder(latent_vector)\n",
    "model = Model(inputs = img, outputs = output)\n",
    "model.compile(\"nadam\", loss = \"MeanAbsoluteError\")"
   ]
  },
  {
   "cell_type": "code",
   "execution_count": null,
   "metadata": {
    "colab": {
     "base_uri": "https://localhost:8080/",
     "height": 644
    },
    "id": "ewXzkdbPD3HL",
    "outputId": "951fedce-b5e8-487a-af6a-85ca30b2083a",
    "scrolled": true
   },
   "outputs": [],
   "source": [
    "EPOCHS = 20\n",
    "#Only do plotting if you have IPython, Jupyter, or using Colab\n",
    "for epoch in range(EPOCHS):\n",
    "    fig, axs = plt.subplots(4, 4, figsize=(4,4))\n",
    "    rand = x_test[np.random.randint(0, 10000, 16)].reshape((4, 4, 1, 28, 28))\n",
    "    \n",
    "    #display.clear_output() # If you imported display from IPython\n",
    "    \n",
    "    for i in range(4):\n",
    "        for j in range(4):\n",
    "            axs[i, j].imshow(model.predict(rand[i, j])[0], cmap = \"gray\")\n",
    "            axs[i, j].axis(\"off\")\n",
    "    \n",
    "    plt.subplots_adjust(wspace = 0, hspace = 0)\n",
    "    plt.show()\n",
    "    print(\"-----------\", \"EPOCH\", epoch, \"-----------\")\n",
    "    model.fit(x_train, x_train, batch_size = 64)"
   ]
  },
  {
   "cell_type": "code",
   "execution_count": null,
   "metadata": {},
   "outputs": [],
   "source": []
  }
 ],
 "metadata": {
  "accelerator": "GPU",
  "colab": {
   "collapsed_sections": [],
   "name": "Autoencoder Tutorial",
   "provenance": []
  },
  "kernelspec": {
   "display_name": "Python 3",
   "language": "python",
   "name": "python3"
  },
  "language_info": {
   "codemirror_mode": {
    "name": "ipython",
    "version": 3
   },
   "file_extension": ".py",
   "mimetype": "text/x-python",
   "name": "python",
   "nbconvert_exporter": "python",
   "pygments_lexer": "ipython3",
   "version": "3.7.6"
  }
 },
 "nbformat": 4,
 "nbformat_minor": 1
}
