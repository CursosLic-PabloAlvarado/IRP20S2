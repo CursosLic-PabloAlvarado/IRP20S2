{
 "cells": [
  {
   "cell_type": "markdown",
   "metadata": {},
   "source": [
    "# Whitening\n",
    "\n",
    "Based on: https://iq.opengenus.org/whitening-with-pca/\n"
   ]
  },
  {
   "cell_type": "code",
   "execution_count": null,
   "metadata": {},
   "outputs": [],
   "source": [
    "import numpy as np\n",
    "import matplotlib.pyplot as plt\n",
    "\n",
    "from sklearn.decomposition import PCA"
   ]
  },
  {
   "cell_type": "code",
   "execution_count": null,
   "metadata": {},
   "outputs": [],
   "source": [
    "np.random.seed(1)"
   ]
  },
  {
   "cell_type": "markdown",
   "metadata": {},
   "source": [
    "Create some gaussian distributed data"
   ]
  },
  {
   "cell_type": "code",
   "execution_count": null,
   "metadata": {},
   "outputs": [],
   "source": [
    "mu = [3,3] \n",
    "sigma = [[7, 5],[5, 7]] # must be positive semi-definite\n",
    "n = 1000\n",
    "x = np.random.multivariate_normal(mu, sigma, size=n).T "
   ]
  },
  {
   "cell_type": "code",
   "execution_count": null,
   "metadata": {},
   "outputs": [],
   "source": [
    "# Take the largest 20 samples appart as set1\n",
    "set1 = np.argsort(np.linalg.norm(x - 3, axis=0))[-20:] \n",
    "set2 = list(set(range(n)) - set(set1))"
   ]
  },
  {
   "cell_type": "code",
   "execution_count": null,
   "metadata": {},
   "outputs": [],
   "source": [
    "def plotting(x, xlim = 16, ylim = 16):\n",
    "    fig, ax = plt.subplots(figsize=(12,10))    \n",
    "    ax.scatter(x[0, set1], x[1, set1], s=20, c=\"red\", alpha=0.2)\n",
    "    ax.scatter(x[0, set2], x[1, set2], s=20, alpha=0.2)\n",
    "    ax.set_aspect(\"equal\")\n",
    "    ax.set_xlim(-xlim, xlim)\n",
    "    ax.set_ylim(-ylim, ylim)\n",
    "    #ax.set_xlabel(\"$x_1$\",loc='right')\n",
    "    #ax.set_ylabel(\"$x_2$\",loc='top')\n",
    "    \n",
    "    # Move left y-axis and bottim x-axis to centre, passing through (0,0)\n",
    "    ax.spines['left'].set_position(('data',0.0))\n",
    "    ax.spines['bottom'].set_position(('data',0.0))\n",
    "\n",
    "    # Eliminate upper and right axes\n",
    "    ax.spines['right'].set_color('none')\n",
    "    ax.spines['top'].set_color('none')\n",
    "\n",
    "    # Show ticks in the left and lower axes only\n",
    "    ax.xaxis.set_ticks_position('bottom')\n",
    "    ax.yaxis.set_ticks_position('left')\n",
    "    \n",
    "    ax.spines[\"top\"].set_visible(False)\n",
    "    ax.spines[\"right\"].set_visible(False)\n",
    "    ax.set_title(\"Original\")"
   ]
  },
  {
   "cell_type": "code",
   "execution_count": null,
   "metadata": {},
   "outputs": [],
   "source": [
    "plotting(x,xlim=15,ylim=15)"
   ]
  },
  {
   "cell_type": "code",
   "execution_count": null,
   "metadata": {},
   "outputs": [],
   "source": [
    "k = 2\n",
    "pca = PCA(n_components = k, whiten = False)\n",
    "z = pca.fit_transform(x.T).T\n",
    "\n",
    "plotting(z,xlim=15,ylim=15)"
   ]
  },
  {
   "cell_type": "code",
   "execution_count": null,
   "metadata": {},
   "outputs": [],
   "source": [
    "pca = PCA(n_components = k, whiten = True)\n",
    "z = pca.fit_transform(x.T).T\n",
    "\n",
    "plotting(z,xlim=5,ylim=5)"
   ]
  },
  {
   "cell_type": "code",
   "execution_count": null,
   "metadata": {},
   "outputs": [],
   "source": []
  }
 ],
 "metadata": {
  "kernelspec": {
   "display_name": "Python 3",
   "language": "python",
   "name": "python3"
  },
  "language_info": {
   "codemirror_mode": {
    "name": "ipython",
    "version": 3
   },
   "file_extension": ".py",
   "mimetype": "text/x-python",
   "name": "python",
   "nbconvert_exporter": "python",
   "pygments_lexer": "ipython3",
   "version": "3.7.6"
  }
 },
 "nbformat": 4,
 "nbformat_minor": 4
}
